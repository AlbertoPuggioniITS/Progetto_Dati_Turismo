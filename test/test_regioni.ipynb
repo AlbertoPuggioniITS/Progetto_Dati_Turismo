{
 "cells": [
  {
   "cell_type": "code",
   "execution_count": null,
   "outputs": [],
   "source": [
    "\n",
    "# Seleziona la colonna \"Regione\" e rimuovi le righe duplicate\n",
    "df_regioni = df_agriturismi_copia[['Regione']].drop_duplicates(subset=['Regione'])\n",
    "\n",
    "# Resetta l'indice\n",
    "df_regioni.reset_index(drop=True, inplace=True)\n",
    "\n",
    "# Aggiungi una colonna \"ID_Regione\" con valori crescenti\n",
    "df_regioni['ID_Regione'] = range(1, len(df_regioni) + 1)\n",
    "\n",
    "# Salva il DataFrame in un file CSV\n",
    "regione_csv = 'regioni.csv'\n",
    "df_regioni.to_csv(regione_csv, index=False)\n",
    "\n",
    "# Visualizza il DataFrame\n",
    "df_regioni\n"
   ],
   "metadata": {
    "collapsed": false
   },
   "id": "41ff282c9de66384"
  },
  {
   "cell_type": "code",
   "execution_count": null,
   "id": "initial_id",
   "metadata": {
    "collapsed": true
   },
   "outputs": [],
   "source": [
    "# Medie per regione ed anno\n",
    "medie_arrivi_agriturismi_per_regione_anno = df_agriturismi.groupby(['Regione', 'Anno'])['Arrivi'].mean()\n",
    "medie_arrivi_alberghi_per_regione_anno = df_alberghi.groupby(['Regione', 'Anno'])['Arrivi'].mean()\n",
    "medie_arrivi_campeggi_per_regione_anno = df_campeggi_villaggi.groupby(['Regione', 'Anno'])['Arrivi'].mean()\n",
    "\n",
    "medie_presenze_agriturismi_per_regione_anno = df_agriturismi.groupby(['Regione', 'Anno'])['Presenze'].mean()\n",
    "medie_presenze_alberghi_per_regione_anno = df_alberghi.groupby(['Regione', 'Anno'])['Presenze'].mean()\n",
    "medie_presenze_campeggi_per_regione_anno = df_campeggi_villaggi.groupby(['Regione', 'Anno'])['Presenze'].mean()\n",
    "\n",
    "# Deviazioni standard per regione ed anno\n",
    "std_arrivi_agriturismi_per_regione_anno = df_agriturismi.groupby(['Regione', 'Anno'])['Arrivi'].std()\n",
    "std_arrivi_alberghi_per_regione_anno = df_alberghi.groupby(['Regione', 'Anno'])['Arrivi'].std()\n",
    "std_arrivi_campeggi_per_regione_anno = df_campeggi_villaggi.groupby(['Regione', 'Anno'])['Arrivi'].std()\n",
    "\n",
    "std_presenze_agriturismi_per_regione_anno = df_agriturismi.groupby(['Regione', 'Anno'])['Presenze'].std()\n",
    "std_presenze_alberghi_per_regione_anno = df_alberghi.groupby(['Regione', 'Anno'])['Presenze'].std()\n",
    "std_presenze_campeggi_per_regione_anno = df_campeggi_villaggi.groupby(['Regione', 'Anno'])['Presenze'].std()\n",
    "\n",
    "\n",
    "pd.set_option('display.max_rows', None)\n",
    "display(medie_arrivi_agriturismi_per_regione_anno)\n",
    "display(medie_presenze_agriturismi_per_regione_anno)\n"
   ]
  },
  {
   "cell_type": "code",
   "execution_count": null,
   "outputs": [],
   "source": [
    "# Converti oggetti Series in DataFrame\n",
    "medie_arrivi_df = medie_arrivi_agriturismi_per_regione_anno.to_frame()\n",
    "medie_presenze_df = medie_presenze_agriturismi_per_regione_anno.to_frame()\n",
    "\n",
    "# Unione dei due DataFrames in base alle colonne \"Regione\" e \"Anno\"\n",
    "stats_medie_agriturismi = medie_arrivi_df.merge(medie_presenze_df, on=['Regione', 'Anno'])\n",
    "\n",
    "# Unione basata sulla colonna \"Regione\"\n",
    "stats_medie_agriturismi = stats_medie_agriturismi.merge(df_regioni, on='Regione', how='left')\n",
    "\n",
    "# Ordina il DataFrame in base alla colonna \"ID_Regione\"\n",
    "stats_medie_agriturismi = stats_medie_agriturismi.sort_values(by='ID_Regione')\n",
    "\n",
    "# Sostituisci 'nome_del_file.csv' con il nome del file CSV desiderato\n",
    "file_csv = 'medie_agriturismi.csv'\n",
    "\n",
    "# Assicurati che il tuo DataFrame sia pronto e contenga i dati desiderati\n",
    "\n",
    "# Utilizza il metodo to_csv per esportare il DataFrame in un file CSV\n",
    "stats_medie_agriturismi.to_csv(file_csv, index=False)\n"
   ],
   "metadata": {
    "collapsed": false
   },
   "id": "c01151d5e3ec1d6f"
  },
  {
   "cell_type": "code",
   "execution_count": null,
   "outputs": [],
   "source": [
    "# Converti oggetti Series in DataFrame\n",
    "medie_arrivi_df_al = medie_arrivi_alberghi_per_regione_anno.to_frame()\n",
    "medie_presenze_df_al = medie_presenze_alberghi_per_regione_anno.to_frame()\n",
    "\n",
    "# Unione dei due DataFrames in base alle colonne \"Regione\" e \"Anno\"\n",
    "stats_medie_alberghi = medie_arrivi_df_al.merge(medie_presenze_df_al, on=['Regione', 'Anno'])\n",
    "\n",
    "# Unione basata sulla colonna \"Regione\"\n",
    "stats_medie_alberghi = stats_medie_alberghi.merge(df_regioni, on='Regione', how='left')\n",
    "\n",
    "# Rimuovi l'indice del DataFrame per convertire \"Regione\" e \"Anno\" in colonne regolari\n",
    "stats_medie_alberghi = stats_medie_alberghi.reset_index(drop=True)\n",
    "\n",
    "# Ordina il DataFrame in base alla colonna \"ID_Regione\"\n",
    "stats_medie_alberghi = stats_medie_alberghi.sort_values(by='ID_Regione')\n",
    "\n",
    "# Sostituisci 'nome_del_file.csv' con il nome del file CSV desiderato\n",
    "file_csv = 'medie_alberghi.csv'\n",
    "\n",
    "# Assicurati che il tuo DataFrame sia pronto e contenga i dati desiderati\n",
    "\n",
    "# Utilizza il metodo to_csv per esportare il DataFrame in un file CSV\n",
    "stats_medie_alberghi.to_csv(file_csv, index=False)\n"
   ],
   "metadata": {
    "collapsed": false
   },
   "id": "dd92e93e819c3daf"
  },
  {
   "cell_type": "code",
   "execution_count": null,
   "outputs": [],
   "source": [
    "# Utilizza il metodo merge di Pandas per collegare le tabelle\n",
    "df_agriturismi = df_agriturismi.merge(df_regioni, on='Regione', how='inner')\n",
    "df_alberghi = df_alberghi.merge(df_regioni, on='Regione', how='inner')\n",
    "df_campeggi_villaggi = df_campeggi_villaggi.merge(df_regioni, on='Regione', how='inner')\n",
    "\n",
    "# Ora df_completo conterrà tutte le colonne da entrambe le tabelle, collegate in base al nome della regione\n",
    "display(df_alberghi)"
   ],
   "metadata": {
    "collapsed": false
   },
   "id": "6c37cf131ac0d346"
  },
  {
   "cell_type": "code",
   "execution_count": null,
   "outputs": [],
   "source": [
    "display(df_agriturismi)\n",
    "display(df_alberghi)\n",
    "display(df_campeggi_villaggi)"
   ],
   "metadata": {
    "collapsed": false
   },
   "id": "269e000cd66a96cb"
  },
  {
   "cell_type": "code",
   "execution_count": null,
   "outputs": [],
   "source": [
    "df_alberghi = df_alberghi.reset_index(drop=True)\n",
    "display(df_alberghi)"
   ],
   "metadata": {
    "collapsed": false
   },
   "id": "2897f4da27b10e6c"
  },
  {
   "cell_type": "code",
   "execution_count": null,
   "outputs": [],
   "source": [
    "df_regioni.to_sql('Regioni', conn, index=False, if_exists='replace')"
   ],
   "metadata": {
    "collapsed": false
   },
   "id": "e5c80d03bdcc8e6"
  }
 ],
 "metadata": {
  "kernelspec": {
   "display_name": "Python 3",
   "language": "python",
   "name": "python3"
  },
  "language_info": {
   "codemirror_mode": {
    "name": "ipython",
    "version": 2
   },
   "file_extension": ".py",
   "mimetype": "text/x-python",
   "name": "python",
   "nbconvert_exporter": "python",
   "pygments_lexer": "ipython2",
   "version": "2.7.6"
  }
 },
 "nbformat": 4,
 "nbformat_minor": 5
}
